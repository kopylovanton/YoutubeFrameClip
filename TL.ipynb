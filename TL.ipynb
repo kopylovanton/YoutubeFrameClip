{
  "nbformat": 4,
  "nbformat_minor": 0,
  "metadata": {
    "colab": {
      "name": "TL.ipynb",
      "provenance": [],
      "collapsed_sections": []
    },
    "kernelspec": {
      "name": "python3",
      "display_name": "Python 3"
    },
    "accelerator": "GPU"
  },
  "cells": [
    {
      "cell_type": "markdown",
      "metadata": {
        "id": "n2Ju6tra8Asm",
        "colab_type": "text"
      },
      "source": [
        "# Loading necessary modules"
      ]
    },
    {
      "cell_type": "code",
      "metadata": {
        "id": "sCRzzBdvjkEp",
        "colab_type": "code",
        "colab": {}
      },
      "source": [
        "#!pip install -Iv tensorflow"
      ],
      "execution_count": 0,
      "outputs": []
    },
    {
      "cell_type": "code",
      "metadata": {
        "id": "6mHmxChAxcv_",
        "colab_type": "code",
        "colab": {
          "base_uri": "https://localhost:8080/",
          "height": 445
        },
        "outputId": "0a189df5-c508-41fc-cb73-af350e65d244"
      },
      "source": [
        "import os\n",
        "#os.environ[\"CUDA_VISIBLE_DEVICES\"] = \"\"\n",
        "#os.environ[\"AUTOGRAPH_VERBOSITY\"] = \"10\"\n",
        "os.environ[\"TF_FORCE_GPU_ALLOW_GROWTH\"] = \"true\"\n",
        "\n",
        "from platform import python_version\n",
        "import warnings\n",
        "import time\n",
        "import datetime as dt\n",
        "from sklearn.metrics import classification_report, confusion_matrix\n",
        "import multiprocessing as mp\n",
        "import shutil\n",
        "import pickle\n",
        "\n",
        "import matplotlib.pyplot as plt\n",
        "import matplotlib.image as mpimg\n",
        "\n",
        "%tensorflow_version 2.x\n",
        "import tensorflow as tf\n",
        "from tensorflow.keras import backend as K\n",
        "from tensorflow.keras.preprocessing.image import ImageDataGenerator\n",
        "from tensorflow.keras.applications.mobilenet_v2 import MobileNetV2, preprocess_input, decode_predictions\n",
        "#from tensorflow.keras.applications.inception_resnet_v2 import InceptionResNetV2, preprocess_input, decode_predictions\n",
        "from tensorflow.keras.models import *\n",
        "from tensorflow.keras.layers import *\n",
        "from tensorflow.keras.optimizers import *\n",
        "from tensorflow.keras.utils import *\n",
        "from tensorflow.keras.callbacks import *\n",
        "from tensorflow.keras.initializers import *\n",
        "\n",
        "import pandas as pd\n",
        "import numpy as np\n",
        "import seaborn as sn\n",
        "\n",
        "from PIL import Image\n",
        "import cv2\n",
        "import xml.etree.ElementTree as ET\n",
        "import psutil\n",
        "import random\n",
        "\n",
        "warnings.filterwarnings(\"ignore\")\n",
        "%matplotlib inline\n",
        "\n",
        "print(\"py\", python_version())\n",
        "print(\"tf\", tf.__version__)\n",
        "print(\"keras\", tf.keras.__version__)\n",
        "mem = psutil.virtual_memory()\n",
        "print(\"mem\", mem.total/1024/1024)\n",
        "cpu = mp.cpu_count()\n",
        "print(\"cpu\", cpu)\n",
        "\n",
        "%system nvidia-smi\n",
        "#%system rocm-smi"
      ],
      "execution_count": 1,
      "outputs": [
        {
          "output_type": "stream",
          "text": [
            "/usr/local/lib/python3.6/dist-packages/statsmodels/tools/_testing.py:19: FutureWarning: pandas.util.testing is deprecated. Use the functions in the public API at pandas.testing instead.\n",
            "  import pandas.util.testing as tm\n"
          ],
          "name": "stderr"
        },
        {
          "output_type": "stream",
          "text": [
            "py 3.6.9\n",
            "tf 2.2.0-rc2\n",
            "keras 2.3.0-tf\n",
            "mem 13021.05078125\n",
            "cpu 2\n"
          ],
          "name": "stdout"
        },
        {
          "output_type": "execute_result",
          "data": {
            "text/plain": [
              "['Mon Apr  6 04:49:13 2020       ',\n",
              " '+-----------------------------------------------------------------------------+',\n",
              " '| NVIDIA-SMI 440.64.00    Driver Version: 418.67       CUDA Version: 10.1     |',\n",
              " '|-------------------------------+----------------------+----------------------+',\n",
              " '| GPU  Name        Persistence-M| Bus-Id        Disp.A | Volatile Uncorr. ECC |',\n",
              " '| Fan  Temp  Perf  Pwr:Usage/Cap|         Memory-Usage | GPU-Util  Compute M. |',\n",
              " '|===============================+======================+======================|',\n",
              " '|   0  Tesla P100-PCIE...  Off  | 00000000:00:04.0 Off |                    0 |',\n",
              " '| N/A   33C    P0    25W / 250W |      0MiB / 16280MiB |      0%      Default |',\n",
              " '+-------------------------------+----------------------+----------------------+',\n",
              " '                                                                               ',\n",
              " '+-----------------------------------------------------------------------------+',\n",
              " '| Processes:                                                       GPU Memory |',\n",
              " '|  GPU       PID   Type   Process name                             Usage      |',\n",
              " '|=============================================================================|',\n",
              " '|  No running processes found                                                 |',\n",
              " '+-----------------------------------------------------------------------------+']"
            ]
          },
          "metadata": {
            "tags": []
          },
          "execution_count": 1
        }
      ]
    },
    {
      "cell_type": "markdown",
      "metadata": {
        "id": "Uc52NRD_-uuB",
        "colab_type": "text"
      },
      "source": [
        "#Get Img Data "
      ]
    },
    {
      "cell_type": "code",
      "metadata": {
        "id": "uT1S7gz2-tWY",
        "colab_type": "code",
        "colab": {
          "base_uri": "https://localhost:8080/",
          "height": 122
        },
        "outputId": "9382d15e-f10f-4018-d41e-e9abd55505b5"
      },
      "source": [
        "from google.colab import drive\n",
        "drive.mount('/gdrive')"
      ],
      "execution_count": 2,
      "outputs": [
        {
          "output_type": "stream",
          "text": [
            "Go to this URL in a browser: https://accounts.google.com/o/oauth2/auth?client_id=947318989803-6bn6qk8qdgf4n4g3pfee6491hc0brc4i.apps.googleusercontent.com&redirect_uri=urn%3aietf%3awg%3aoauth%3a2.0%3aoob&response_type=code&scope=email%20https%3a%2f%2fwww.googleapis.com%2fauth%2fdocs.test%20https%3a%2f%2fwww.googleapis.com%2fauth%2fdrive%20https%3a%2f%2fwww.googleapis.com%2fauth%2fdrive.photos.readonly%20https%3a%2f%2fwww.googleapis.com%2fauth%2fpeopleapi.readonly\n",
            "\n",
            "Enter your authorization code:\n",
            "··········\n",
            "Mounted at /gdrive\n"
          ],
          "name": "stdout"
        }
      ]
    },
    {
      "cell_type": "code",
      "metadata": {
        "id": "Q2NYUCAlS2M7",
        "colab_type": "code",
        "colab": {
          "base_uri": "https://localhost:8080/",
          "height": 306
        },
        "outputId": "99b55ccc-f429-4d3d-eebb-2e320ab04bbe"
      },
      "source": [
        "!ls -an \"/gdrive/My Drive/Python/ObjectDetection/TL/data\""
      ],
      "execution_count": 3,
      "outputs": [
        {
          "output_type": "stream",
          "text": [
            "total 2200\n",
            "-rw------- 1 0 0 1220620 Apr  5 13:18 1_2020-03-29_DK1LE3ZlZyI.pkl\n",
            "-rw------- 1 0 0  111035 Apr  5 13:18 1_2020-03-29_fdqOdTvGc9I.pkl\n",
            "-rw------- 1 0 0    8607 Apr  5 13:18 12020-03-29_LB6McOGIolY.pkl\n",
            "-rw------- 1 0 0   10989 Apr  5 13:18 2020-03-25_TuI0uW7nsSw.pkl\n",
            "-rw------- 1 0 0  235562 Apr  5 13:18 2020-03-28_fdqOdTvGc9I.pkl\n",
            "-rw------- 1 0 0   20570 Apr  5 05:02 2020-03-28_nhNRbb8MSBQ.pkl\n",
            "-rw------- 1 0 0   64684 Apr  5 05:02 2020-03-29_1_6G5-PMk_jjw.pkl\n",
            "-rw------- 1 0 0  104885 Apr  5 05:02 2020-03-29_6G5-PMk_jjw.pkl\n",
            "-rw------- 1 0 0  212901 Apr  5 05:02 2020-03-29_nhNRbb8MSBQ.pkl\n",
            "-rw------- 1 0 0   12282 Apr  5 05:02 2020-03-30_2xr-s27dPJE.pkl\n",
            "-rw------- 1 0 0   21959 Apr  5 05:02 2020-03-30_6G5-PMk_jjw.pkl\n",
            "-rw------- 1 0 0   30945 Apr  5 05:02 2020-03-30_fdqOdTvGc9I.pkl\n",
            "-rw------- 1 0 0   52656 Apr  5 05:03 2020-03-30_QPuPxNyujXw.pkl\n",
            "-rw------- 1 0 0  109690 Apr  5 13:18 2020-03-31_NRONUthxaQE.pkl\n",
            "-rw------- 1 0 0   13413 Apr  5 13:18 2020-03-31_QPuPxNyujXw.pkl\n",
            "-rw------- 1 0 0   18144 Apr  5 13:18 2020-04-01_lLogKtUR0Xo.pkl\n"
          ],
          "name": "stdout"
        }
      ]
    },
    {
      "cell_type": "markdown",
      "metadata": {
        "id": "qYrawqVa69ae",
        "colab_type": "text"
      },
      "source": [
        "#Variables"
      ]
    },
    {
      "cell_type": "code",
      "metadata": {
        "id": "iw7VvmH7yHFE",
        "colab_type": "code",
        "colab": {}
      },
      "source": [
        "batch_size = 32\n",
        "testsplit = .1\n",
        "targetx = 96#224\n",
        "targety = 96#224\n",
        "learning_rate = 0.0001\n",
        "classes = 1\n",
        "seed = 43\n",
        "\n",
        "app_dir= \"/gdrive/My Drive/Python/ObjectDetection/TL/\"\n",
        "data_dir = \"/gdrive/My Drive/Python/ObjectDetection/TL/data/\""
      ],
      "execution_count": 0,
      "outputs": []
    },
    {
      "cell_type": "markdown",
      "metadata": {
        "id": "FsncD9xh7cLA",
        "colab_type": "text"
      },
      "source": [
        "#Image data read"
      ]
    },
    {
      "cell_type": "code",
      "metadata": {
        "id": "vMeA3275tAmX",
        "colab_type": "code",
        "colab": {
          "base_uri": "https://localhost:8080/",
          "height": 306
        },
        "outputId": "76ef14ad-01d8-470c-8cc6-ead23313f038"
      },
      "source": [
        "def loadpkl(filename):\n",
        "      with open(filename, 'rb') as f:\n",
        "          data = pickle.load(f)\n",
        "          x=np.array([cv2.cvtColor(cv2.resize(d[1], (targetx, targety)), cv2.COLOR_BGR2RGB) for d in data])\n",
        "          y=np.array([d[0] for d in data])\n",
        "      return x,y\n",
        "X=None\n",
        "Y=None\n",
        "for filename in os.listdir(data_dir):\n",
        "    if filename.endswith(\".pkl\"): \n",
        "         print(os.path.join(data_dir, filename))\n",
        "         if X is None:\n",
        "           X,Y=loadpkl(os.path.join(data_dir, filename))\n",
        "         else:\n",
        "           x,y=loadpkl(os.path.join(data_dir, filename))\n",
        "           X=np.append(X,x, axis=0)\n",
        "           Y=np.append(Y,y)\n",
        "X.shape"
      ],
      "execution_count": 5,
      "outputs": [
        {
          "output_type": "stream",
          "text": [
            "/gdrive/My Drive/Python/ObjectDetection/TL/data/2020-03-30_2xr-s27dPJE.pkl\n",
            "/gdrive/My Drive/Python/ObjectDetection/TL/data/2020-03-30_fdqOdTvGc9I.pkl\n",
            "/gdrive/My Drive/Python/ObjectDetection/TL/data/2020-03-30_6G5-PMk_jjw.pkl\n",
            "/gdrive/My Drive/Python/ObjectDetection/TL/data/2020-03-29_6G5-PMk_jjw.pkl\n",
            "/gdrive/My Drive/Python/ObjectDetection/TL/data/2020-03-28_nhNRbb8MSBQ.pkl\n",
            "/gdrive/My Drive/Python/ObjectDetection/TL/data/2020-03-29_1_6G5-PMk_jjw.pkl\n",
            "/gdrive/My Drive/Python/ObjectDetection/TL/data/2020-03-29_nhNRbb8MSBQ.pkl\n",
            "/gdrive/My Drive/Python/ObjectDetection/TL/data/2020-03-30_QPuPxNyujXw.pkl\n",
            "/gdrive/My Drive/Python/ObjectDetection/TL/data/2020-04-01_lLogKtUR0Xo.pkl\n",
            "/gdrive/My Drive/Python/ObjectDetection/TL/data/2020-03-31_QPuPxNyujXw.pkl\n",
            "/gdrive/My Drive/Python/ObjectDetection/TL/data/2020-03-31_NRONUthxaQE.pkl\n",
            "/gdrive/My Drive/Python/ObjectDetection/TL/data/12020-03-29_LB6McOGIolY.pkl\n",
            "/gdrive/My Drive/Python/ObjectDetection/TL/data/2020-03-25_TuI0uW7nsSw.pkl\n",
            "/gdrive/My Drive/Python/ObjectDetection/TL/data/1_2020-03-29_fdqOdTvGc9I.pkl\n",
            "/gdrive/My Drive/Python/ObjectDetection/TL/data/2020-03-28_fdqOdTvGc9I.pkl\n",
            "/gdrive/My Drive/Python/ObjectDetection/TL/data/1_2020-03-29_DK1LE3ZlZyI.pkl\n"
          ],
          "name": "stdout"
        },
        {
          "output_type": "execute_result",
          "data": {
            "text/plain": [
              "(1902, 96, 96, 3)"
            ]
          },
          "metadata": {
            "tags": []
          },
          "execution_count": 5
        }
      ]
    },
    {
      "cell_type": "markdown",
      "metadata": {
        "id": "FyYFhzNi5AVQ",
        "colab_type": "text"
      },
      "source": [
        "#Keras data generator"
      ]
    },
    {
      "cell_type": "code",
      "metadata": {
        "id": "9GqG9HbiyHHw",
        "colab_type": "code",
        "colab": {}
      },
      "source": [
        "datagen = ImageDataGenerator(\n",
        "        #shear_range=0.1,\n",
        "        data_format = \"channels_last\",\n",
        "        brightness_range=[0.9,1.1],\n",
        "        horizontal_flip=True,\n",
        "        vertical_flip=True,\n",
        "        validation_split=testsplit,\n",
        "        preprocessing_function=preprocess_input\n",
        ")\n",
        "#datagen.fit(X)\n",
        "train_generator = datagen.flow(\n",
        "        X,Y,\n",
        "        batch_size=batch_size,\n",
        "        shuffle=True,\n",
        "        seed=seed,\n",
        "        subset=\"training\"\n",
        ")\n",
        "\n",
        "test_generator = datagen.flow(\n",
        "        X,Y,\n",
        "        batch_size=batch_size,\n",
        "        shuffle=False,\n",
        "        seed=seed,\n",
        "        subset=\"validation\"\n",
        ")"
      ],
      "execution_count": 0,
      "outputs": []
    },
    {
      "cell_type": "markdown",
      "metadata": {
        "id": "kmPG9KnlDQN-",
        "colab_type": "text"
      },
      "source": [
        "#Sample image"
      ]
    },
    {
      "cell_type": "code",
      "metadata": {
        "id": "sI_J5kJ6Cvyw",
        "colab_type": "code",
        "colab": {
          "base_uri": "https://localhost:8080/",
          "height": 302
        },
        "outputId": "88b3e2fe-af41-47ce-c6f3-03390789d81b"
      },
      "source": [
        "print(Y[:5])\n",
        "img=Image.fromarray(X[1142]) \n",
        "plt.imshow(img)"
      ],
      "execution_count": 7,
      "outputs": [
        {
          "output_type": "stream",
          "text": [
            "[1 0 1 0 1]\n"
          ],
          "name": "stdout"
        },
        {
          "output_type": "execute_result",
          "data": {
            "text/plain": [
              "<matplotlib.image.AxesImage at 0x7f692dd535f8>"
            ]
          },
          "metadata": {
            "tags": []
          },
          "execution_count": 7
        },
        {
          "output_type": "display_data",
          "data": {
            "image/png": "[encoded data removed]",
            "text/plain": [
              "<Figure size 432x288 with 1 Axes>"
            ]
          },
          "metadata": {
            "tags": []
          }
        }
      ]
    },
    {
      "cell_type": "markdown",
      "metadata": {
        "id": "gPR-hkv4FkCV",
        "colab_type": "text"
      },
      "source": [
        "#Keras callbacks"
      ]
    },
    {
      "cell_type": "code",
      "metadata": {
        "id": "ZBNWdIYYFXWx",
        "colab_type": "code",
        "colab": {}
      },
      "source": [
        "checkpoint = ModelCheckpoint(os.path.join(app_dir, 'ball_classifier_sigmoid_96.h5'),\n",
        "                             monitor='val_accuracy',\n",
        "                             save_best_only=True,\n",
        "                             verbose=1,\n",
        "                             mode='auto',\n",
        "                             save_weights_only=False,\n",
        "                             save_freq='epoch')\n",
        "\n",
        "#https://github.com/keras-team/keras/issues/3358\n",
        "tensorboard = TensorBoard(log_dir=\"./logs-\"+dt.datetime.now().strftime(\"%m%d%Y%H%M%S\"),\n",
        "                            histogram_freq=0,\n",
        "                            #batch_size=batch_size,\n",
        "                            write_graph=False,\n",
        "                            update_freq='epoch')\n",
        "\n",
        "def epoch_end(epoch, logs):\n",
        "    message = \"End of epoch \"+str(epoch)+\". Learning rate: \"+str(K.eval(model.optimizer.lr))\n",
        "    os.system('echo '+message)\n",
        "\n",
        "def epoch_begin(epoch, logs):\n",
        "    print(\"Learning rate: \", K.eval(model.optimizer.lr))\n",
        "    \n",
        "def train_begin(logs):\n",
        "    os.system(\"echo Beginning training\")\n",
        "\n",
        "earlystop = EarlyStopping(monitor='val_accuracy',\n",
        "                          min_delta=.0001,\n",
        "                          patience=15,\n",
        "                          verbose=1,\n",
        "                          mode='auto',\n",
        "                          baseline=None,\n",
        "                          restore_best_weights=True)\n",
        "\n",
        "reducelr = ReduceLROnPlateau(monitor='val_accuracy',\n",
        "                             factor=np.sqrt(.1),\n",
        "                             patience=10,\n",
        "                             verbose=1,\n",
        "                             mode='auto',\n",
        "                             min_delta=.0001,\n",
        "                             cooldown=0,\n",
        "                             min_lr=0.0000001)\n",
        "\n",
        "lambdacb = LambdaCallback(on_epoch_begin=None,#epoch_begin,\n",
        "                          on_epoch_end=epoch_end,\n",
        "                          on_batch_begin=None,\n",
        "                          on_batch_end=None,\n",
        "                          on_train_begin=train_begin,\n",
        "                          on_train_end=None)"
      ],
      "execution_count": 0,
      "outputs": []
    },
    {
      "cell_type": "markdown",
      "metadata": {
        "id": "kruXyty3GT5F",
        "colab_type": "text"
      },
      "source": [
        "#Define new top layers and compile model"
      ]
    },
    {
      "cell_type": "code",
      "metadata": {
        "id": "DTMwP-AoFXZl",
        "colab_type": "code",
        "colab": {
          "base_uri": "https://localhost:8080/",
          "height": 71
        },
        "outputId": "3da38b88-93aa-4516-8bd4-4b186a77e7f6"
      },
      "source": [
        "base_model = MobileNetV2(include_top=False, weights='imagenet', input_shape=(targetx, targety, 3))\n",
        "base_model.trainable = False\n",
        "x = base_model.output\n",
        "x = GlobalAveragePooling2D()(x)\n",
        "## x = Dropout(rate = .2)(x)\n",
        "x = BatchNormalization()(x)\n",
        "#x = Dense(1280, activation='relu',  kernel_initializer=glorot_uniform(seed), bias_initializer='zeros')(x)\n",
        "x = Dense(16, activation='relu')(x)\n",
        "#x = Dense(8, activation='relu')(x)\n",
        "#x = Dropout(rate = .2)(x)\n",
        "x = BatchNormalization()(x)\n",
        "predictions = Dense(classes, activation='sigmoid')(x) #, kernel_initializer='random_uniform', bias_initializer='zeros'\n",
        "\n",
        "model = Model(inputs=base_model.input, outputs=predictions)\n",
        "\n",
        "optimizer = Adam(lr=learning_rate)\n",
        "#optimizer = RMSprop(lr=learning_rate)\n",
        "\n",
        "loss = tf.keras.losses.BinaryCrossentropy()#from_logits=True\n",
        "#\"categorical_crossentropy\"\n",
        "# loss = \"kullback_leibler_divergence\"\n",
        "\n",
        "# for layer in model.layers:\n",
        "#     layer.trainable = True\n",
        "\n",
        "\n",
        "model.compile(optimizer=optimizer,\n",
        "              loss=loss,\n",
        "              metrics=[\"accuracy\"])\n",
        "\n",
        "#model.summary()\n",
        "# for i, layer in enumerate(model.layers):\n",
        "#     print(i, layer.name, layer.trainable)"
      ],
      "execution_count": 9,
      "outputs": [
        {
          "output_type": "stream",
          "text": [
            "Downloading data from https://storage.googleapis.com/tensorflow/keras-applications/mobilenet_v2/mobilenet_v2_weights_tf_dim_ordering_tf_kernels_1.0_96_no_top.h5\n",
            "9412608/9406464 [==============================] - 0s 0us/step\n"
          ],
          "name": "stdout"
        }
      ]
    },
    {
      "cell_type": "markdown",
      "metadata": {
        "id": "lDjLpNTWM642",
        "colab_type": "text"
      },
      "source": [
        "#Fit model"
      ]
    },
    {
      "cell_type": "code",
      "metadata": {
        "id": "o-BLIwteCvv3",
        "colab_type": "code",
        "colab": {
          "base_uri": "https://localhost:8080/",
          "height": 1000
        },
        "outputId": "05d34f38-6828-4526-f5cd-23ae64fde18e"
      },
      "source": [
        "%%time\n",
        "\n",
        "params = model.fit(train_generator, \n",
        "                                steps_per_epoch=len(train_generator), \n",
        "                                validation_data=test_generator, \n",
        "                                validation_steps=len(test_generator),\n",
        "                                epochs=100,\n",
        "                                callbacks=[reducelr, earlystop, lambdacb, tensorboard, checkpoint])"
      ],
      "execution_count": 11,
      "outputs": [
        {
          "output_type": "stream",
          "text": [
            "Epoch 1/100\n",
            "54/54 [==============================] - ETA: 0s - loss: 0.6502 - accuracy: 0.6513\n",
            "Epoch 00001: val_accuracy improved from -inf to 0.56842, saving model to /gdrive/My Drive/Python/ObjectDetection/TL/ball_classifier_sigmoid_96.h5\n",
            "54/54 [==============================] - 3s 55ms/step - loss: 0.6502 - accuracy: 0.6513 - val_loss: 0.7127 - val_accuracy: 0.5684 - lr: 1.0000e-04\n",
            "Epoch 2/100\n",
            "52/54 [===========================>..] - ETA: 0s - loss: 0.4872 - accuracy: 0.7668\n",
            "Epoch 00002: val_accuracy improved from 0.56842 to 0.65263, saving model to /gdrive/My Drive/Python/ObjectDetection/TL/ball_classifier_sigmoid_96.h5\n",
            "54/54 [==============================] - 2s 35ms/step - loss: 0.4841 - accuracy: 0.7699 - val_loss: 0.6413 - val_accuracy: 0.6526 - lr: 1.0000e-04\n",
            "Epoch 3/100\n",
            "53/54 [============================>.] - ETA: 0s - loss: 0.4052 - accuracy: 0.8149\n",
            "Epoch 00003: val_accuracy improved from 0.65263 to 0.70526, saving model to /gdrive/My Drive/Python/ObjectDetection/TL/ball_classifier_sigmoid_96.h5\n",
            "54/54 [==============================] - 2s 35ms/step - loss: 0.4082 - accuracy: 0.8148 - val_loss: 0.5682 - val_accuracy: 0.7053 - lr: 1.0000e-04\n",
            "Epoch 4/100\n",
            "54/54 [==============================] - ETA: 0s - loss: 0.3661 - accuracy: 0.8440\n",
            "Epoch 00004: val_accuracy improved from 0.70526 to 0.72632, saving model to /gdrive/My Drive/Python/ObjectDetection/TL/ball_classifier_sigmoid_96.h5\n",
            "54/54 [==============================] - 2s 34ms/step - loss: 0.3661 - accuracy: 0.8440 - val_loss: 0.5785 - val_accuracy: 0.7263 - lr: 1.0000e-04\n",
            "Epoch 5/100\n",
            "54/54 [==============================] - ETA: 0s - loss: 0.3412 - accuracy: 0.8528\n",
            "Epoch 00005: val_accuracy improved from 0.72632 to 0.73684, saving model to /gdrive/My Drive/Python/ObjectDetection/TL/ball_classifier_sigmoid_96.h5\n",
            "54/54 [==============================] - 2s 34ms/step - loss: 0.3412 - accuracy: 0.8528 - val_loss: 0.5286 - val_accuracy: 0.7368 - lr: 1.0000e-04\n",
            "Epoch 6/100\n",
            "54/54 [==============================] - ETA: 0s - loss: 0.3274 - accuracy: 0.8557\n",
            "Epoch 00006: val_accuracy improved from 0.73684 to 0.80000, saving model to /gdrive/My Drive/Python/ObjectDetection/TL/ball_classifier_sigmoid_96.h5\n",
            "54/54 [==============================] - 2s 35ms/step - loss: 0.3274 - accuracy: 0.8557 - val_loss: 0.5292 - val_accuracy: 0.8000 - lr: 1.0000e-04\n",
            "Epoch 7/100\n",
            "53/54 [============================>.] - ETA: 0s - loss: 0.3061 - accuracy: 0.8691\n",
            "Epoch 00007: val_accuracy did not improve from 0.80000\n",
            "54/54 [==============================] - 1s 27ms/step - loss: 0.3073 - accuracy: 0.8686 - val_loss: 0.4997 - val_accuracy: 0.7579 - lr: 1.0000e-04\n",
            "Epoch 8/100\n",
            "52/54 [===========================>..] - ETA: 0s - loss: 0.2909 - accuracy: 0.8762\n",
            "Epoch 00008: val_accuracy did not improve from 0.80000\n",
            "54/54 [==============================] - 1s 26ms/step - loss: 0.2867 - accuracy: 0.8773 - val_loss: 0.4791 - val_accuracy: 0.7789 - lr: 1.0000e-04\n",
            "Epoch 9/100\n",
            "54/54 [==============================] - ETA: 0s - loss: 0.2844 - accuracy: 0.8779\n",
            "Epoch 00009: val_accuracy improved from 0.80000 to 0.82105, saving model to /gdrive/My Drive/Python/ObjectDetection/TL/ball_classifier_sigmoid_96.h5\n",
            "54/54 [==============================] - 2s 34ms/step - loss: 0.2844 - accuracy: 0.8779 - val_loss: 0.4788 - val_accuracy: 0.8211 - lr: 1.0000e-04\n",
            "Epoch 10/100\n",
            "52/54 [===========================>..] - ETA: 0s - loss: 0.2715 - accuracy: 0.8864\n",
            "Epoch 00010: val_accuracy did not improve from 0.82105\n",
            "54/54 [==============================] - 1s 26ms/step - loss: 0.2707 - accuracy: 0.8873 - val_loss: 0.4675 - val_accuracy: 0.8053 - lr: 1.0000e-04\n",
            "Epoch 11/100\n",
            "53/54 [============================>.] - ETA: 0s - loss: 0.2603 - accuracy: 0.8897\n",
            "Epoch 00011: val_accuracy did not improve from 0.82105\n",
            "54/54 [==============================] - 1s 27ms/step - loss: 0.2615 - accuracy: 0.8890 - val_loss: 0.4598 - val_accuracy: 0.7737 - lr: 1.0000e-04\n",
            "Epoch 12/100\n",
            "52/54 [===========================>..] - ETA: 0s - loss: 0.2529 - accuracy: 0.8960\n",
            "Epoch 00012: val_accuracy did not improve from 0.82105\n",
            "54/54 [==============================] - 1s 26ms/step - loss: 0.2575 - accuracy: 0.8954 - val_loss: 0.4476 - val_accuracy: 0.8053 - lr: 1.0000e-04\n",
            "Epoch 13/100\n",
            "53/54 [============================>.] - ETA: 0s - loss: 0.2469 - accuracy: 0.9021\n",
            "Epoch 00013: val_accuracy did not improve from 0.82105\n",
            "54/54 [==============================] - 1s 28ms/step - loss: 0.2438 - accuracy: 0.9030 - val_loss: 0.4524 - val_accuracy: 0.8000 - lr: 1.0000e-04\n",
            "Epoch 14/100\n",
            "54/54 [==============================] - ETA: 0s - loss: 0.2595 - accuracy: 0.8972\n",
            "Epoch 00014: val_accuracy did not improve from 0.82105\n",
            "54/54 [==============================] - 1s 27ms/step - loss: 0.2595 - accuracy: 0.8972 - val_loss: 0.4215 - val_accuracy: 0.8053 - lr: 1.0000e-04\n",
            "Epoch 15/100\n",
            "52/54 [===========================>..] - ETA: 0s - loss: 0.2416 - accuracy: 0.9075\n",
            "Epoch 00015: val_accuracy did not improve from 0.82105\n",
            "54/54 [==============================] - 1s 27ms/step - loss: 0.2465 - accuracy: 0.9042 - val_loss: 0.4096 - val_accuracy: 0.8211 - lr: 1.0000e-04\n",
            "Epoch 16/100\n",
            "54/54 [==============================] - ETA: 0s - loss: 0.2241 - accuracy: 0.9112\n",
            "Epoch 00016: val_accuracy improved from 0.82105 to 0.82632, saving model to /gdrive/My Drive/Python/ObjectDetection/TL/ball_classifier_sigmoid_96.h5\n",
            "54/54 [==============================] - 2s 41ms/step - loss: 0.2241 - accuracy: 0.9112 - val_loss: 0.4387 - val_accuracy: 0.8263 - lr: 1.0000e-04\n",
            "Epoch 17/100\n",
            "53/54 [============================>.] - ETA: 0s - loss: 0.2480 - accuracy: 0.9015\n",
            "Epoch 00017: val_accuracy did not improve from 0.82632\n",
            "54/54 [==============================] - 1s 26ms/step - loss: 0.2491 - accuracy: 0.9007 - val_loss: 0.4270 - val_accuracy: 0.8105 - lr: 1.0000e-04\n",
            "Epoch 18/100\n",
            "54/54 [==============================] - ETA: 0s - loss: 0.2272 - accuracy: 0.9136\n",
            "Epoch 00018: val_accuracy did not improve from 0.82632\n",
            "54/54 [==============================] - 1s 27ms/step - loss: 0.2272 - accuracy: 0.9136 - val_loss: 0.4180 - val_accuracy: 0.8053 - lr: 1.0000e-04\n",
            "Epoch 19/100\n",
            "53/54 [============================>.] - ETA: 0s - loss: 0.2137 - accuracy: 0.9204\n",
            "Epoch 00019: val_accuracy did not improve from 0.82632\n",
            "54/54 [==============================] - 1s 26ms/step - loss: 0.2125 - accuracy: 0.9211 - val_loss: 0.4054 - val_accuracy: 0.8053 - lr: 1.0000e-04\n",
            "Epoch 20/100\n",
            "53/54 [============================>.] - ETA: 0s - loss: 0.2264 - accuracy: 0.9051\n",
            "Epoch 00020: val_accuracy did not improve from 0.82632\n",
            "54/54 [==============================] - 1s 26ms/step - loss: 0.2255 - accuracy: 0.9054 - val_loss: 0.4584 - val_accuracy: 0.7842 - lr: 1.0000e-04\n",
            "Epoch 21/100\n",
            "52/54 [===========================>..] - ETA: 0s - loss: 0.2135 - accuracy: 0.9201\n",
            "Epoch 00021: val_accuracy did not improve from 0.82632\n",
            "54/54 [==============================] - 1s 26ms/step - loss: 0.2115 - accuracy: 0.9217 - val_loss: 0.4390 - val_accuracy: 0.8105 - lr: 1.0000e-04\n",
            "Epoch 22/100\n",
            "52/54 [===========================>..] - ETA: 0s - loss: 0.1945 - accuracy: 0.9165\n",
            "Epoch 00022: val_accuracy did not improve from 0.82632\n",
            "54/54 [==============================] - 1s 27ms/step - loss: 0.1996 - accuracy: 0.9147 - val_loss: 0.4196 - val_accuracy: 0.7947 - lr: 1.0000e-04\n",
            "Epoch 23/100\n",
            "52/54 [===========================>..] - ETA: 0s - loss: 0.2126 - accuracy: 0.9225\n",
            "Epoch 00023: val_accuracy did not improve from 0.82632\n",
            "54/54 [==============================] - 1s 26ms/step - loss: 0.2107 - accuracy: 0.9229 - val_loss: 0.4325 - val_accuracy: 0.8105 - lr: 1.0000e-04\n",
            "Epoch 24/100\n",
            "53/54 [============================>.] - ETA: 0s - loss: 0.2066 - accuracy: 0.9180\n",
            "Epoch 00024: val_accuracy did not improve from 0.82632\n",
            "54/54 [==============================] - 1s 27ms/step - loss: 0.2059 - accuracy: 0.9176 - val_loss: 0.4324 - val_accuracy: 0.7895 - lr: 1.0000e-04\n",
            "Epoch 25/100\n",
            "52/54 [===========================>..] - ETA: 0s - loss: 0.1833 - accuracy: 0.9351\n",
            "Epoch 00025: val_accuracy did not improve from 0.82632\n",
            "54/54 [==============================] - 1s 26ms/step - loss: 0.1864 - accuracy: 0.9334 - val_loss: 0.4104 - val_accuracy: 0.8158 - lr: 1.0000e-04\n",
            "Epoch 26/100\n",
            "52/54 [===========================>..] - ETA: 0s - loss: 0.1932 - accuracy: 0.9279\n",
            "Epoch 00026: ReduceLROnPlateau reducing learning rate to 3.1622775802825264e-05.\n",
            "\n",
            "Epoch 00026: val_accuracy did not improve from 0.82632\n",
            "54/54 [==============================] - 1s 27ms/step - loss: 0.1953 - accuracy: 0.9264 - val_loss: 0.4229 - val_accuracy: 0.8105 - lr: 1.0000e-04\n",
            "Epoch 27/100\n",
            "54/54 [==============================] - ETA: 0s - loss: 0.1829 - accuracy: 0.9317\n",
            "Epoch 00027: val_accuracy improved from 0.82632 to 0.83684, saving model to /gdrive/My Drive/Python/ObjectDetection/TL/ball_classifier_sigmoid_96.h5\n",
            "54/54 [==============================] - 2s 41ms/step - loss: 0.1829 - accuracy: 0.9317 - val_loss: 0.3947 - val_accuracy: 0.8368 - lr: 3.1623e-05\n",
            "Epoch 28/100\n",
            "54/54 [==============================] - ETA: 0s - loss: 0.1979 - accuracy: 0.9270\n",
            "Epoch 00028: val_accuracy did not improve from 0.83684\n",
            "54/54 [==============================] - 1s 26ms/step - loss: 0.1979 - accuracy: 0.9270 - val_loss: 0.4448 - val_accuracy: 0.8000 - lr: 3.1623e-05\n",
            "Epoch 29/100\n",
            "54/54 [==============================] - ETA: 0s - loss: 0.1835 - accuracy: 0.9223\n",
            "Epoch 00029: val_accuracy did not improve from 0.83684\n",
            "54/54 [==============================] - 1s 26ms/step - loss: 0.1835 - accuracy: 0.9223 - val_loss: 0.4360 - val_accuracy: 0.8158 - lr: 3.1623e-05\n",
            "Epoch 30/100\n",
            "54/54 [==============================] - ETA: 0s - loss: 0.1909 - accuracy: 0.9258\n",
            "Epoch 00030: val_accuracy did not improve from 0.83684\n",
            "54/54 [==============================] - 1s 26ms/step - loss: 0.1909 - accuracy: 0.9258 - val_loss: 0.4343 - val_accuracy: 0.8211 - lr: 3.1623e-05\n",
            "Epoch 31/100\n",
            "54/54 [==============================] - ETA: 0s - loss: 0.1894 - accuracy: 0.9299\n",
            "Epoch 00031: val_accuracy did not improve from 0.83684\n",
            "54/54 [==============================] - 1s 27ms/step - loss: 0.1894 - accuracy: 0.9299 - val_loss: 0.4495 - val_accuracy: 0.8053 - lr: 3.1623e-05\n",
            "Epoch 32/100\n",
            "54/54 [==============================] - ETA: 0s - loss: 0.1991 - accuracy: 0.9282\n",
            "Epoch 00032: val_accuracy did not improve from 0.83684\n",
            "54/54 [==============================] - 1s 26ms/step - loss: 0.1991 - accuracy: 0.9282 - val_loss: 0.4056 - val_accuracy: 0.8316 - lr: 3.1623e-05\n",
            "Epoch 33/100\n",
            "54/54 [==============================] - ETA: 0s - loss: 0.1805 - accuracy: 0.9357\n",
            "Epoch 00033: val_accuracy did not improve from 0.83684\n",
            "54/54 [==============================] - 1s 27ms/step - loss: 0.1805 - accuracy: 0.9357 - val_loss: 0.4083 - val_accuracy: 0.8158 - lr: 3.1623e-05\n",
            "Epoch 34/100\n",
            "53/54 [============================>.] - ETA: 0s - loss: 0.1782 - accuracy: 0.9340\n",
            "Epoch 00034: val_accuracy did not improve from 0.83684\n",
            "54/54 [==============================] - 1s 27ms/step - loss: 0.1790 - accuracy: 0.9340 - val_loss: 0.4061 - val_accuracy: 0.8368 - lr: 3.1623e-05\n",
            "Epoch 35/100\n",
            "53/54 [============================>.] - ETA: 0s - loss: 0.1917 - accuracy: 0.9263\n",
            "Epoch 00035: val_accuracy did not improve from 0.83684\n",
            "54/54 [==============================] - 1s 28ms/step - loss: 0.1897 - accuracy: 0.9270 - val_loss: 0.3730 - val_accuracy: 0.8211 - lr: 3.1623e-05\n",
            "Epoch 36/100\n",
            "52/54 [===========================>..] - ETA: 0s - loss: 0.1892 - accuracy: 0.9303\n",
            "Epoch 00036: val_accuracy did not improve from 0.83684\n",
            "54/54 [==============================] - 1s 28ms/step - loss: 0.1911 - accuracy: 0.9287 - val_loss: 0.3993 - val_accuracy: 0.8263 - lr: 3.1623e-05\n",
            "Epoch 37/100\n",
            "52/54 [===========================>..] - ETA: 0s - loss: 0.1921 - accuracy: 0.9231\n",
            "Epoch 00037: ReduceLROnPlateau reducing learning rate to 9.999999259090306e-06.\n",
            "\n",
            "Epoch 00037: val_accuracy did not improve from 0.83684\n",
            "54/54 [==============================] - 1s 27ms/step - loss: 0.1959 - accuracy: 0.9206 - val_loss: 0.4126 - val_accuracy: 0.7895 - lr: 3.1623e-05\n",
            "Epoch 38/100\n",
            "52/54 [===========================>..] - ETA: 0s - loss: 0.1914 - accuracy: 0.9261\n",
            "Epoch 00038: val_accuracy did not improve from 0.83684\n",
            "54/54 [==============================] - 1s 27ms/step - loss: 0.1926 - accuracy: 0.9258 - val_loss: 0.4183 - val_accuracy: 0.7895 - lr: 1.0000e-05\n",
            "Epoch 39/100\n",
            "52/54 [===========================>..] - ETA: 0s - loss: 0.1854 - accuracy: 0.9273\n",
            "Epoch 00039: val_accuracy did not improve from 0.83684\n",
            "54/54 [==============================] - 1s 27ms/step - loss: 0.1826 - accuracy: 0.9287 - val_loss: 0.4230 - val_accuracy: 0.8000 - lr: 1.0000e-05\n",
            "Epoch 40/100\n",
            "53/54 [============================>.] - ETA: 0s - loss: 0.1800 - accuracy: 0.9363\n",
            "Epoch 00040: val_accuracy improved from 0.83684 to 0.84211, saving model to /gdrive/My Drive/Python/ObjectDetection/TL/ball_classifier_sigmoid_96.h5\n",
            "54/54 [==============================] - 2s 45ms/step - loss: 0.1796 - accuracy: 0.9363 - val_loss: 0.3705 - val_accuracy: 0.8421 - lr: 1.0000e-05\n",
            "Epoch 41/100\n",
            "52/54 [===========================>..] - ETA: 0s - loss: 0.1838 - accuracy: 0.9333\n",
            "Epoch 00041: val_accuracy did not improve from 0.84211\n",
            "54/54 [==============================] - 1s 26ms/step - loss: 0.1852 - accuracy: 0.9317 - val_loss: 0.4132 - val_accuracy: 0.8105 - lr: 1.0000e-05\n",
            "Epoch 42/100\n",
            "53/54 [============================>.] - ETA: 0s - loss: 0.1838 - accuracy: 0.9334\n",
            "Epoch 00042: val_accuracy did not improve from 0.84211\n",
            "54/54 [==============================] - 1s 27ms/step - loss: 0.1826 - accuracy: 0.9334 - val_loss: 0.4141 - val_accuracy: 0.8053 - lr: 1.0000e-05\n",
            "Epoch 43/100\n",
            "52/54 [===========================>..] - ETA: 0s - loss: 0.1797 - accuracy: 0.9321\n",
            "Epoch 00043: val_accuracy did not improve from 0.84211\n",
            "54/54 [==============================] - 1s 26ms/step - loss: 0.1790 - accuracy: 0.9317 - val_loss: 0.4133 - val_accuracy: 0.8105 - lr: 1.0000e-05\n",
            "Epoch 44/100\n",
            "54/54 [==============================] - ETA: 0s - loss: 0.1772 - accuracy: 0.9346\n",
            "Epoch 00044: val_accuracy did not improve from 0.84211\n",
            "54/54 [==============================] - 1s 26ms/step - loss: 0.1772 - accuracy: 0.9346 - val_loss: 0.4052 - val_accuracy: 0.8053 - lr: 1.0000e-05\n",
            "Epoch 45/100\n",
            "53/54 [============================>.] - ETA: 0s - loss: 0.1766 - accuracy: 0.9357\n",
            "Epoch 00045: val_accuracy did not improve from 0.84211\n",
            "54/54 [==============================] - 1s 27ms/step - loss: 0.1786 - accuracy: 0.9340 - val_loss: 0.4131 - val_accuracy: 0.7895 - lr: 1.0000e-05\n",
            "Epoch 46/100\n",
            "52/54 [===========================>..] - ETA: 0s - loss: 0.1811 - accuracy: 0.9297\n",
            "Epoch 00046: val_accuracy did not improve from 0.84211\n",
            "54/54 [==============================] - 1s 26ms/step - loss: 0.1825 - accuracy: 0.9299 - val_loss: 0.4077 - val_accuracy: 0.8158 - lr: 1.0000e-05\n",
            "Epoch 47/100\n",
            "54/54 [==============================] - ETA: 0s - loss: 0.1841 - accuracy: 0.9334\n",
            "Epoch 00047: val_accuracy did not improve from 0.84211\n",
            "54/54 [==============================] - 1s 27ms/step - loss: 0.1841 - accuracy: 0.9334 - val_loss: 0.4257 - val_accuracy: 0.8053 - lr: 1.0000e-05\n",
            "Epoch 48/100\n",
            "53/54 [============================>.] - ETA: 0s - loss: 0.1825 - accuracy: 0.9334\n",
            "Epoch 00048: val_accuracy did not improve from 0.84211\n",
            "54/54 [==============================] - 1s 26ms/step - loss: 0.1832 - accuracy: 0.9328 - val_loss: 0.4263 - val_accuracy: 0.8316 - lr: 1.0000e-05\n",
            "Epoch 49/100\n",
            "54/54 [==============================] - ETA: 0s - loss: 0.1765 - accuracy: 0.9398\n",
            "Epoch 00049: val_accuracy did not improve from 0.84211\n",
            "54/54 [==============================] - 1s 26ms/step - loss: 0.1765 - accuracy: 0.9398 - val_loss: 0.4252 - val_accuracy: 0.7895 - lr: 1.0000e-05\n",
            "Epoch 50/100\n",
            "53/54 [============================>.] - ETA: 0s - loss: 0.1798 - accuracy: 0.9346\n",
            "Epoch 00050: ReduceLROnPlateau reducing learning rate to 3.162277292675049e-06.\n",
            "\n",
            "Epoch 00050: val_accuracy did not improve from 0.84211\n",
            "54/54 [==============================] - 1s 26ms/step - loss: 0.1780 - accuracy: 0.9352 - val_loss: 0.4366 - val_accuracy: 0.8000 - lr: 1.0000e-05\n",
            "Epoch 51/100\n",
            "53/54 [============================>.] - ETA: 0s - loss: 0.1794 - accuracy: 0.9281\n",
            "Epoch 00051: val_accuracy did not improve from 0.84211\n",
            "54/54 [==============================] - 1s 26ms/step - loss: 0.1777 - accuracy: 0.9287 - val_loss: 0.3972 - val_accuracy: 0.8368 - lr: 3.1623e-06\n",
            "Epoch 52/100\n",
            "54/54 [==============================] - ETA: 0s - loss: 0.1812 - accuracy: 0.9328\n",
            "Epoch 00052: val_accuracy did not improve from 0.84211\n",
            "54/54 [==============================] - 1s 26ms/step - loss: 0.1812 - accuracy: 0.9328 - val_loss: 0.4310 - val_accuracy: 0.8000 - lr: 3.1623e-06\n",
            "Epoch 53/100\n",
            "54/54 [==============================] - ETA: 0s - loss: 0.1802 - accuracy: 0.9317\n",
            "Epoch 00053: val_accuracy did not improve from 0.84211\n",
            "54/54 [==============================] - 1s 25ms/step - loss: 0.1802 - accuracy: 0.9317 - val_loss: 0.4099 - val_accuracy: 0.8105 - lr: 3.1623e-06\n",
            "Epoch 54/100\n",
            "53/54 [============================>.] - ETA: 0s - loss: 0.1718 - accuracy: 0.9375\n",
            "Epoch 00054: val_accuracy did not improve from 0.84211\n",
            "54/54 [==============================] - 1s 26ms/step - loss: 0.1723 - accuracy: 0.9375 - val_loss: 0.4266 - val_accuracy: 0.8053 - lr: 3.1623e-06\n",
            "Epoch 55/100\n",
            "52/54 [===========================>..] - ETA: 0s - loss: 0.1659 - accuracy: 0.9399Restoring model weights from the end of the best epoch.\n",
            "\n",
            "Epoch 00055: val_accuracy did not improve from 0.84211\n",
            "54/54 [==============================] - 1s 27ms/step - loss: 0.1659 - accuracy: 0.9404 - val_loss: 0.4163 - val_accuracy: 0.8105 - lr: 3.1623e-06\n",
            "Epoch 00055: early stopping\n",
            "CPU times: user 1min 54s, sys: 6.02 s, total: 2min\n",
            "Wall time: 1min 35s\n"
          ],
          "name": "stdout"
        }
      ]
    },
    {
      "cell_type": "markdown",
      "metadata": {
        "id": "uEwqTm4O5M6B",
        "colab_type": "text"
      },
      "source": [
        "#Unfreeze and fine tuning"
      ]
    },
    {
      "cell_type": "code",
      "metadata": {
        "id": "Q7iasWQ9MUUi",
        "colab_type": "code",
        "colab": {
          "base_uri": "https://localhost:8080/",
          "height": 1000
        },
        "outputId": "3a89b4a4-4d9a-49cd-baad-a206fa166d23"
      },
      "source": [
        "for layer in model.layers:\n",
        "    layer.trainable = True\n",
        "params1 = model.fit(train_generator, \n",
        "                                steps_per_epoch=len(train_generator), \n",
        "                                validation_data=test_generator, \n",
        "                                validation_steps=len(test_generator),\n",
        "                                epochs=100,\n",
        "                                callbacks=[reducelr, earlystop, lambdacb, tensorboard, checkpoint])\n",
        "#model.summary()"
      ],
      "execution_count": 13,
      "outputs": [
        {
          "output_type": "stream",
          "text": [
            "Epoch 1/100\n",
            "54/54 [==============================] - ETA: 0s - loss: 0.1822 - accuracy: 0.9334\n",
            "Epoch 00001: val_accuracy did not improve from 0.84211\n",
            "54/54 [==============================] - 2s 29ms/step - loss: 0.1822 - accuracy: 0.9334 - val_loss: 0.4150 - val_accuracy: 0.8105 - lr: 1.0000e-06\n",
            "Epoch 2/100\n",
            "54/54 [==============================] - ETA: 0s - loss: 0.1904 - accuracy: 0.9282\n",
            "Epoch 00002: val_accuracy did not improve from 0.84211\n",
            "54/54 [==============================] - 1s 26ms/step - loss: 0.1904 - accuracy: 0.9282 - val_loss: 0.4363 - val_accuracy: 0.8053 - lr: 1.0000e-06\n",
            "Epoch 3/100\n",
            "53/54 [============================>.] - ETA: 0s - loss: 0.1927 - accuracy: 0.9280\n",
            "Epoch 00003: val_accuracy did not improve from 0.84211\n",
            "54/54 [==============================] - 1s 27ms/step - loss: 0.1917 - accuracy: 0.9282 - val_loss: 0.4121 - val_accuracy: 0.8105 - lr: 1.0000e-06\n",
            "Epoch 4/100\n",
            "53/54 [============================>.] - ETA: 0s - loss: 0.1895 - accuracy: 0.9262\n",
            "Epoch 00004: val_accuracy did not improve from 0.84211\n",
            "54/54 [==============================] - 1s 27ms/step - loss: 0.1896 - accuracy: 0.9258 - val_loss: 0.3903 - val_accuracy: 0.8263 - lr: 1.0000e-06\n",
            "Epoch 5/100\n",
            "53/54 [============================>.] - ETA: 0s - loss: 0.1813 - accuracy: 0.9292\n",
            "Epoch 00005: val_accuracy did not improve from 0.84211\n",
            "54/54 [==============================] - 1s 26ms/step - loss: 0.1818 - accuracy: 0.9293 - val_loss: 0.4220 - val_accuracy: 0.8263 - lr: 1.0000e-06\n",
            "Epoch 6/100\n",
            "53/54 [============================>.] - ETA: 0s - loss: 0.1797 - accuracy: 0.9298\n",
            "Epoch 00006: val_accuracy did not improve from 0.84211\n",
            "54/54 [==============================] - 1s 27ms/step - loss: 0.1778 - accuracy: 0.9311 - val_loss: 0.4233 - val_accuracy: 0.8158 - lr: 1.0000e-06\n",
            "Epoch 7/100\n",
            "54/54 [==============================] - ETA: 0s - loss: 0.1902 - accuracy: 0.9299\n",
            "Epoch 00007: val_accuracy did not improve from 0.84211\n",
            "54/54 [==============================] - 1s 26ms/step - loss: 0.1902 - accuracy: 0.9299 - val_loss: 0.3877 - val_accuracy: 0.8000 - lr: 1.0000e-06\n",
            "Epoch 8/100\n",
            "52/54 [===========================>..] - ETA: 0s - loss: 0.1814 - accuracy: 0.9278\n",
            "Epoch 00008: val_accuracy did not improve from 0.84211\n",
            "54/54 [==============================] - 1s 25ms/step - loss: 0.1849 - accuracy: 0.9270 - val_loss: 0.4136 - val_accuracy: 0.8000 - lr: 1.0000e-06\n",
            "Epoch 9/100\n",
            "54/54 [==============================] - ETA: 0s - loss: 0.1788 - accuracy: 0.9317\n",
            "Epoch 00009: val_accuracy did not improve from 0.84211\n",
            "54/54 [==============================] - 1s 25ms/step - loss: 0.1788 - accuracy: 0.9317 - val_loss: 0.4221 - val_accuracy: 0.8000 - lr: 1.0000e-06\n",
            "Epoch 10/100\n",
            "52/54 [===========================>..] - ETA: 0s - loss: 0.1791 - accuracy: 0.9351\n",
            "Epoch 00010: val_accuracy did not improve from 0.84211\n",
            "54/54 [==============================] - 1s 26ms/step - loss: 0.1792 - accuracy: 0.9352 - val_loss: 0.4189 - val_accuracy: 0.8000 - lr: 1.0000e-06\n",
            "Epoch 11/100\n",
            "54/54 [==============================] - ETA: 0s - loss: 0.1942 - accuracy: 0.9229\n",
            "Epoch 00011: val_accuracy did not improve from 0.84211\n",
            "54/54 [==============================] - 1s 25ms/step - loss: 0.1942 - accuracy: 0.9229 - val_loss: 0.4162 - val_accuracy: 0.8263 - lr: 1.0000e-06\n",
            "Epoch 12/100\n",
            "54/54 [==============================] - ETA: 0s - loss: 0.1902 - accuracy: 0.9270\n",
            "Epoch 00012: val_accuracy did not improve from 0.84211\n",
            "54/54 [==============================] - 1s 26ms/step - loss: 0.1902 - accuracy: 0.9270 - val_loss: 0.4117 - val_accuracy: 0.8053 - lr: 1.0000e-06\n",
            "Epoch 13/100\n",
            "53/54 [============================>.] - ETA: 0s - loss: 0.1855 - accuracy: 0.9327\n",
            "Epoch 00013: val_accuracy did not improve from 0.84211\n",
            "54/54 [==============================] - 1s 25ms/step - loss: 0.1851 - accuracy: 0.9322 - val_loss: 0.4070 - val_accuracy: 0.8053 - lr: 1.0000e-06\n",
            "Epoch 14/100\n",
            "54/54 [==============================] - ETA: 0s - loss: 0.1781 - accuracy: 0.9363\n",
            "Epoch 00014: ReduceLROnPlateau reducing learning rate to 3.1622772926750485e-07.\n",
            "\n",
            "Epoch 00014: val_accuracy did not improve from 0.84211\n",
            "54/54 [==============================] - 1s 25ms/step - loss: 0.1781 - accuracy: 0.9363 - val_loss: 0.4002 - val_accuracy: 0.8158 - lr: 1.0000e-06\n",
            "Epoch 15/100\n",
            "53/54 [============================>.] - ETA: 0s - loss: 0.1868 - accuracy: 0.9256\n",
            "Epoch 00015: val_accuracy did not improve from 0.84211\n",
            "54/54 [==============================] - 1s 26ms/step - loss: 0.1875 - accuracy: 0.9258 - val_loss: 0.3896 - val_accuracy: 0.8053 - lr: 3.1623e-07\n",
            "Epoch 16/100\n",
            "53/54 [============================>.] - ETA: 0s - loss: 0.1813 - accuracy: 0.9310\n",
            "Epoch 00016: val_accuracy did not improve from 0.84211\n",
            "54/54 [==============================] - 1s 26ms/step - loss: 0.1811 - accuracy: 0.9311 - val_loss: 0.4184 - val_accuracy: 0.8000 - lr: 3.1623e-07\n",
            "Epoch 17/100\n",
            "53/54 [============================>.] - ETA: 0s - loss: 0.1729 - accuracy: 0.9345\n",
            "Epoch 00017: val_accuracy did not improve from 0.84211\n",
            "54/54 [==============================] - 1s 25ms/step - loss: 0.1734 - accuracy: 0.9346 - val_loss: 0.4002 - val_accuracy: 0.8211 - lr: 3.1623e-07\n",
            "Epoch 18/100\n",
            "52/54 [===========================>..] - ETA: 0s - loss: 0.1834 - accuracy: 0.9260\n",
            "Epoch 00018: val_accuracy did not improve from 0.84211\n",
            "54/54 [==============================] - 1s 26ms/step - loss: 0.1799 - accuracy: 0.9282 - val_loss: 0.3868 - val_accuracy: 0.8263 - lr: 3.1623e-07\n",
            "Epoch 19/100\n",
            "52/54 [===========================>..] - ETA: 0s - loss: 0.1927 - accuracy: 0.9272Restoring model weights from the end of the best epoch.\n",
            "\n",
            "Epoch 00019: val_accuracy did not improve from 0.84211\n",
            "54/54 [==============================] - 1s 27ms/step - loss: 0.1915 - accuracy: 0.9282 - val_loss: 0.4086 - val_accuracy: 0.8158 - lr: 3.1623e-07\n",
            "Epoch 00019: early stopping\n"
          ],
          "name": "stdout"
        }
      ]
    },
    {
      "cell_type": "markdown",
      "metadata": {
        "id": "DIyMq5JZ901Z",
        "colab_type": "text"
      },
      "source": [
        "#Training and test loss/accuracy graphs\n"
      ]
    },
    {
      "cell_type": "code",
      "metadata": {
        "id": "UZVVXKMcCvhn",
        "colab_type": "code",
        "colab": {
          "base_uri": "https://localhost:8080/",
          "height": 281
        },
        "outputId": "497d543b-1f17-4579-f5c4-98136ffbc57d"
      },
      "source": [
        "plt.subplot(1, 2, 1)\n",
        "plt.title('Training and test accuracy')\n",
        "plt.plot(params.epoch, params.history['accuracy'], label='Training accuracy')\n",
        "plt.plot(params.epoch, params.history['val_accuracy'], label='Test accuracy')\n",
        "plt.legend()\n",
        "\n",
        "plt.subplot(1, 2, 2)\n",
        "plt.title('Training and test loss')\n",
        "plt.plot(params.epoch, params.history['loss'], label='Training loss')\n",
        "plt.plot(params.epoch, params.history['val_loss'], label='Test loss')\n",
        "plt.legend()\n",
        "\n",
        "plt.show()"
      ],
      "execution_count": 14,
      "outputs": [
        {
          "output_type": "display_data",
          "data": {
            "image/png": "[encoded data removed]",
            "text/plain": [
              "<Figure size 432x288 with 2 Axes>"
            ]
          },
          "metadata": {
            "tags": []
          }
        }
      ]
    },
    {
      "cell_type": "markdown",
      "metadata": {
        "id": "gcgeC4-A5bWO",
        "colab_type": "text"
      },
      "source": [
        "#Example calculate predictions"
      ]
    },
    {
      "cell_type": "code",
      "metadata": {
        "id": "tCIB2QeLyHT6",
        "colab_type": "code",
        "colab": {
          "base_uri": "https://localhost:8080/",
          "height": 455
        },
        "outputId": "7676cd99-0300-48fa-9e35-4fa27db0f07c"
      },
      "source": [
        "import math\n",
        "img=Image.fromarray(X[226])#.resize((targetx, targety))\n",
        "plt.imshow(img)\n",
        "probabilities = model.predict(preprocess_input(X[220:231]))\n",
        "#print(1 / (1 + math.exp(-1*probabilities)))\n",
        "print((probabilities))"
      ],
      "execution_count": 17,
      "outputs": [
        {
          "output_type": "stream",
          "text": [
            "[[0.64165026]\n",
            " [0.32078376]\n",
            " [0.36611882]\n",
            " [0.00557879]\n",
            " [0.5802527 ]\n",
            " [0.00748405]\n",
            " [0.63934577]\n",
            " [0.06406618]\n",
            " [0.5423206 ]\n",
            " [0.01133267]\n",
            " [0.92514706]]\n"
          ],
          "name": "stdout"
        },
        {
          "output_type": "display_data",
          "data": {
            "image/png": "[encoded data removed]",
            "text/plain": [
              "<Figure size 432x288 with 1 Axes>"
            ]
          },
          "metadata": {
            "tags": []
          }
        }
      ]
    },
    {
      "cell_type": "markdown",
      "metadata": {
        "id": "kpq17YKG5h1k",
        "colab_type": "text"
      },
      "source": [
        "#Todo classifications report"
      ]
    },
    {
      "cell_type": "code",
      "metadata": {
        "id": "FgpKRHfuzYAA",
        "colab_type": "code",
        "colab": {}
      },
      "source": [
        "test_generator.reset()\n",
        "predictions = model.predict_generator(test_generator, steps=len(test_generator))\n",
        "\n",
        "# y = 1*(predictions>0)\n",
        "# Y.shape\n",
        "# # print('Classification Report')\n",
        "# # cr = classification_report(y_true=np.expand_dims(Y,axis=1), y_pred=y)\n",
        "# # print(cr)"
      ],
      "execution_count": 0,
      "outputs": []
    }
  ]
}